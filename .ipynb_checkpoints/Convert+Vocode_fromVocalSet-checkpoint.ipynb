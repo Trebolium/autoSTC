{
 "cells": [
  {
   "cell_type": "code",
   "execution_count": 1,
   "metadata": {},
   "outputs": [],
   "source": [
    "# CONVERSION PERFORMS THE ACTUAL VOICE CONVERSION THAT HAPPENS AFTER A MODEL IS TRAINED,\n",
    "# SO WE'VE BEEN PROVIDED WITH A PRETRAINED AUTOVC MODEL TO DEMONSTRATE THIS\n",
    "\n",
    "import os, random, pickle\n",
    "import torch\n",
    "import numpy as np\n",
    "from math import ceil\n",
    "from model_vc import Generator\n",
    "import random\n",
    "import yaml, math"
   ]
  },
  {
   "cell_type": "code",
   "execution_count": 5,
   "metadata": {},
   "outputs": [],
   "source": [
    "def pad_seq(x, base=32):\n",
    "    len_out = int(base * ceil(float(x.shape[0])/base))\n",
    "    len_pad = len_out - x.shape[0]\n",
    "    assert len_pad >= 0\n",
    "    return np.pad(x, ((0,len_pad),(0,0)), 'constant'), len_pad\n",
    "\n",
    "device = 'cuda:0'\n",
    "num_trained_spkrs = 20\n",
    "freq = 32\n",
    "bottle_neck = 32\n",
    "one_hot = False\n",
    "ckpt_iters = 100000\n",
    "model_dir = 'FirstVte_autovcTest_Dim32(probably)'\n",
    "\n",
    "# Data split for model:\n",
    "# train list: 'm7_', 'm9_', 'm11_', 'm8_', 'm6_', 'm4_', 'm1_', 'm5_', 'f8_', 'f6_', 'f3_', 'f5_', 'f7_', 'f1_', 'f9_'\n",
    "# test list: 'm2_', 'm10_', 'm3_', 'f2_', 'f4_'\n",
    "\n",
    "root = '/homes/bdoc3/my_data/autovc_data/vte-autovc/model_saves'\n",
    "checkpoint_path = root +'/' +model_dir +'/ckpts/ckpt_' +str(ckpt_iters) +'.pth.tar'\n",
    "\n",
    "subdir_for_wavs = root +'/' +model_dir +'/generated_wavs/' +str(ckpt_iters) +'iters'\n",
    "if os.path.exists(subdir_for_wavs)==False:\n",
    "    os.makedirs(subdir_for_wavs)\n",
    "    \n",
    "if one_hot==True:\n",
    "    G = Generator(bottle_neck, num_trained_spkrs, 512, freq).eval().to(device)\n",
    "else:\n",
    "    G = Generator(bottle_neck, 256, 512, freq).eval().to(device)"
   ]
  },
  {
   "cell_type": "code",
   "execution_count": 6,
   "metadata": {},
   "outputs": [],
   "source": [
    "# pretrained autovc model loaded into G model\n",
    "g_checkpoint = torch.load(checkpoint_path)\n",
    "G.load_state_dict(g_checkpoint['model_state_dict'])\n",
    "g_optimizer = torch.optim.Adam(G.parameters(), 0.0001)\n",
    "g_optimizer.load_state_dict(g_checkpoint['optimizer_state_dict'])\n",
    "\n",
    "# for state in g_optimizer.state.values():\n",
    "#     for k, v in state.items():\n",
    "#         if isinstance(v, torch.Tensor):\n",
    "#             state[k] = v.cuda()"
   ]
  },
  {
   "cell_type": "code",
   "execution_count": 7,
   "metadata": {},
   "outputs": [],
   "source": [
    "# select random males and females from the training set\n",
    "selected_speaker_for_conversion = []\n",
    "num_spkrs_per_gender = 2\n",
    "spkrs_found = 0\n",
    "uttr_idx = '001'\n",
    "\n",
    "# Vte model's data splits:\n",
    "train_m_list = ['m7_', 'm9_', 'm11_', 'm8_', 'm6_', 'm4_', 'm1_', 'm5_']\n",
    "train_f_list = ['f8_', 'f6_', 'f3_', 'f5_', 'f7_', 'f1_', 'f9_']\n",
    "random.shuffle(train_m_list)\n",
    "random.shuffle(train_f_list)\n",
    "full_vte_trained_list = train_m_list[:1] + train_f_list[:1]\n",
    "\n",
    "val_m_list = ['m2_', 'm3_', 'm10_']\n",
    "val_f_list = ['f2_', 'f4_']\n",
    "random.shuffle(val_m_list)\n",
    "random.shuffle(val_f_list)\n",
    "full_vte_untrained_list = val_m_list[:1] + val_f_list[:1]"
   ]
  },
  {
   "cell_type": "code",
   "execution_count": 8,
   "metadata": {},
   "outputs": [
    {
     "name": "stdout",
     "output_type": "stream",
     "text": [
      "belt m6_arpeggios_belt_e.npy (562, 80)\n",
      "lip_trill m6_scales_lip_trill_o.npy (500, 80)\n",
      "straight m6_arpeggios_straight_e.npy (463, 80)\n",
      "vocal_fry m6_scales_vocal_fry_e.npy (937, 80)\n",
      "vibrato m6_scales_vibrato_o.npy (1125, 80)\n",
      "breathy m6_scales_breathy_u.npy (585, 80)\n",
      "belt f5_scales_belt_a.npy (538, 80)\n",
      "lip_trill f5_scales_lip_trill_o.npy (445, 80)\n",
      "straight f5_scales_straight_a.npy (489, 80)\n",
      "vocal_fry f5_arpeggios_vocal_fry_a.npy (548, 80)\n",
      "vibrato f5_arpeggios_vibrato_e.npy (466, 80)\n",
      "breathy f5_arpeggios_breathy_i.npy (465, 80)\n"
     ]
    },
    {
     "data": {
      "text/plain": [
       "['m6_arpeggios_belt_e.npy',\n",
       " 'm6_scales_lip_trill_o.npy',\n",
       " 'm6_arpeggios_straight_e.npy',\n",
       " 'm6_scales_vocal_fry_e.npy',\n",
       " 'm6_scales_vibrato_o.npy',\n",
       " 'm6_scales_breathy_u.npy',\n",
       " 'f5_scales_belt_a.npy',\n",
       " 'f5_scales_lip_trill_o.npy',\n",
       " 'f5_scales_straight_a.npy',\n",
       " 'f5_arpeggios_vocal_fry_a.npy',\n",
       " 'f5_arpeggios_vibrato_e.npy',\n",
       " 'f5_arpeggios_breathy_i.npy']"
      ]
     },
     "execution_count": 8,
     "metadata": {},
     "output_type": "execute_result"
    }
   ],
   "source": [
    "spmel_dir = '/homes/bdoc3/my_data/phonDet/spmel_autovc_params_unnormalized'\n",
    "config = pickle.load(open('/homes/bdoc3/phonDet/results/newStandardAutovcSpmelParamsUnnormLatent64Out256/config_params.pkl', 'rb'))\n",
    "emb_ckpt = '/homes/bdoc3/phonDet/results/newStandardAutovcSpmelParamsUnnormLatent64Out256/best_epoch_checkpoint.pth.tar'\n",
    "with open(spmel_dir +'/spmel_params.yaml') as File:\n",
    "    spmel_params = yaml.load(File, Loader=yaml.FullLoader)\n",
    "\n",
    "melsteps_per_second = spmel_params['sr'] / spmel_params['hop_size']\n",
    "window_size = math.ceil(config.chunk_seconds * melsteps_per_second)\n",
    "\n",
    "\n",
    "    \n",
    "# randomly go through fileList and select ones that are in the full_vte_trained_list\n",
    "_, _, fileList = next(os.walk('/homes/bdoc3/my_data/phonDet/spmel_autovc_params_unnormalized'))\n",
    "class_list = ['belt','lip_trill','straight','vocal_fry','vibrato','breathy']\n",
    "\n",
    "random.shuffle(fileList)\n",
    "selected_examples = []\n",
    "\n",
    "for singer_id in full_vte_trained_list:\n",
    "    for class_id in class_list:\n",
    "#         print(class_id)\n",
    "        for file in fileList:\n",
    "#             print(file)\n",
    "            if singer_id in file:\n",
    "                if class_id in file:\n",
    "                    spmel = np.load(os.path.join(spmel_dir, file))\n",
    "                    if spmel.shape[0] < (window_size*config.chunk_num):\n",
    "                        continue\n",
    "                    print(class_id, file, spmel.shape)\n",
    "                    selected_examples.append(file)\n",
    "                    break\n",
    "\n",
    "selected_examples"
   ]
  },
  {
   "cell_type": "code",
   "execution_count": 71,
   "metadata": {},
   "outputs": [
    {
     "data": {
      "text/plain": [
       "Vt_Embedder(\n",
       "  (conv_layer1): Sequential(\n",
       "    (0): Conv2d(1, 64, kernel_size=(3, 3), stride=(1, 1), padding=(1, 1))\n",
       "    (1): BatchNorm2d(64, eps=1e-05, momentum=0.1, affine=True, track_running_stats=True)\n",
       "    (2): ReLU()\n",
       "    (3): MaxPool2d(kernel_size=2, stride=2, padding=0, dilation=1, ceil_mode=False)\n",
       "  )\n",
       "  (conv_layer2): Sequential(\n",
       "    (0): Conv2d(64, 128, kernel_size=(3, 3), stride=(1, 1), padding=(1, 1))\n",
       "    (1): BatchNorm2d(128, eps=1e-05, momentum=0.1, affine=True, track_running_stats=True)\n",
       "    (2): ReLU()\n",
       "    (3): MaxPool2d(kernel_size=4, stride=3, padding=0, dilation=1, ceil_mode=False)\n",
       "  )\n",
       "  (conv_layer3): Sequential(\n",
       "    (0): Conv2d(128, 256, kernel_size=(3, 3), stride=(1, 1), padding=(1, 1))\n",
       "    (1): BatchNorm2d(256, eps=1e-05, momentum=0.1, affine=True, track_running_stats=True)\n",
       "    (2): ReLU()\n",
       "    (3): MaxPool2d(kernel_size=2, stride=3, padding=0, dilation=1, ceil_mode=False)\n",
       "  )\n",
       "  (conv_layer4): Sequential(\n",
       "    (0): Conv2d(256, 512, kernel_size=(3, 3), stride=(1, 1), padding=(1, 1))\n",
       "    (1): BatchNorm2d(512, eps=1e-05, momentum=0.1, affine=True, track_running_stats=True)\n",
       "    (2): ReLU()\n",
       "    (3): MaxPool2d(kernel_size=2, stride=4, padding=0, dilation=1, ceil_mode=False)\n",
       "  )\n",
       "  (fc_layer1): Sequential(\n",
       "    (0): Linear(in_features=512, out_features=512, bias=True)\n",
       "    (1): Dropout(p=0, inplace=False)\n",
       "    (2): BatchNorm1d(512, eps=1e-05, momentum=0.1, affine=True, track_running_stats=True)\n",
       "    (3): ReLU()\n",
       "  )\n",
       "  (fc_layer2): Sequential(\n",
       "    (0): Linear(in_features=512, out_features=256, bias=True)\n",
       "    (1): BatchNorm1d(256, eps=1e-05, momentum=0.1, affine=True, track_running_stats=True)\n",
       "    (2): ReLU()\n",
       "  )\n",
       "  (fc_layer3): Sequential(\n",
       "    (0): Linear(in_features=512, out_features=64, bias=True)\n",
       "    (1): BatchNorm1d(64, eps=1e-05, momentum=0.1, affine=True, track_running_stats=True)\n",
       "    (2): ReLU()\n",
       "  )\n",
       "  (fc_layer4): Sequential(\n",
       "    (0): Linear(in_features=384, out_features=256, bias=True)\n",
       "    (1): BatchNorm1d(256, eps=1e-05, momentum=0.1, affine=True, track_running_stats=True)\n",
       "    (2): ReLU()\n",
       "  )\n",
       "  (lstm): LSTM(256, 256, num_layers=2, batch_first=True, bidirectional=True)\n",
       ")"
      ]
     },
     "execution_count": 71,
     "metadata": {},
     "output_type": "execute_result"
    }
   ],
   "source": [
    "# initialize vte_embedder\n",
    "from collections import OrderedDict\n",
    "from vte_model import Vt_Embedder\n",
    "\n",
    "vte =  Vt_Embedder(config, spmel_params)\n",
    "for param in vte.parameters():\n",
    "    param.requires_grad = False\n",
    "vte_optimizer = torch.optim.Adam(vte.parameters(), 0.0001)\n",
    "vte_checkpoint = torch.load(emb_ckpt)\n",
    "new_state_dict = OrderedDict()\n",
    "for i, (key, val) in enumerate(vte_checkpoint['model_state_dict'].items()):\n",
    "    if key.startswith('class_layer'):\n",
    "        continue\n",
    "    new_state_dict[key] = val \n",
    "vte.load_state_dict(new_state_dict)\n",
    "\n",
    "for state in vte_optimizer.state.values():\n",
    "    for k, v in state.items():\n",
    "        if isinstance(v, torch.Tensor):\n",
    "            state[k] = v.cuda(which_cuda)\n",
    "\n",
    "vte.to(device)\n",
    "vte.eval()"
   ]
  },
  {
   "cell_type": "code",
   "execution_count": 72,
   "metadata": {},
   "outputs": [],
   "source": [
    "# Create embeddings\n",
    "emb_list = []\n",
    "selected_examples_torch = []\n",
    "selected_examples_nps = []\n",
    "for file in selected_examples:\n",
    "    spmel = np.load(os.path.join(spmel_dir, file))\n",
    "    # we checked previously if any spmel were less than (config.chunk_num * window_size)\n",
    "    offset = random.randint(0, (spmel.shape[0]-(config.chunk_num * window_size)))\n",
    "    trimmed_spmel = spmel[offset:offset + (config.chunk_num * window_size)]\n",
    "    selected_examples_nps.append(trimmed_spmel)\n",
    "    spmel_torch = torch.from_numpy(trimmed_spmel).to(device).float().unsqueeze(0)\n",
    "    selected_examples_torch.append(spmel_torch)\n",
    "    spmel_by_chunk = spmel_torch.view(config.chunk_num, window_size, spmel_torch.shape[2])\n",
    "    vt_emb = vte(spmel_by_chunk)\n",
    "    emb_list.append(vt_emb)"
   ]
  },
  {
   "cell_type": "code",
   "execution_count": 73,
   "metadata": {},
   "outputs": [],
   "source": [
    "# resynthesize without converting\n",
    "resynth_spmels = []\n",
    "for i in range(len(selected_examples)):\n",
    "    with torch.no_grad():\n",
    "        _, x_identic_psnt, _ = G(selected_examples_torch[i], emb_list[i], emb_list[i])\n",
    "        resynth_spmels.append(x_identic_psnt.squeeze(0).squeeze(0).cpu())"
   ]
  },
  {
   "cell_type": "code",
   "execution_count": 74,
   "metadata": {},
   "outputs": [
    {
     "data": {
      "text/plain": [
       "torch.Size([192, 80])"
      ]
     },
     "execution_count": 74,
     "metadata": {},
     "output_type": "execute_result"
    }
   ],
   "source": [
    "resynth_spmels[asd].shape"
   ]
  },
  {
   "cell_type": "code",
   "execution_count": 75,
   "metadata": {},
   "outputs": [
    {
     "data": {
      "text/plain": [
       "(80, 192)"
      ]
     },
     "execution_count": 75,
     "metadata": {},
     "output_type": "execute_result"
    }
   ],
   "source": [
    "np.rot90(selected_examples_nps[asd]).shape"
   ]
  },
  {
   "cell_type": "code",
   "execution_count": 82,
   "metadata": {},
   "outputs": [
    {
     "data": {
      "image/png": "[encoded data removed]",
      "text/plain": [
       "<Figure size 432x288 with 1 Axes>"
      ]
     },
     "metadata": {
      "needs_background": "light"
     },
     "output_type": "display_data"
    },
    {
     "data": {
      "image/png": "[encoded data removed]",
      "text/plain": [
       "<Figure size 432x288 with 1 Axes>"
      ]
     },
     "metadata": {
      "needs_background": "light"
     },
     "output_type": "display_data"
    }
   ],
   "source": [
    "import matplotlib.pyplot as plt\n",
    "asd = 5\n",
    "qwe = resynth_spmels[asd].rot90()\n",
    "plt.imshow(qwe, cmap='gray')\n",
    "plt.show()\n",
    "\n",
    "qwe = np.rot90(selected_examples_nps[asd])\n",
    "plt.imshow(qwe, cmap='gray')\n",
    "plt.show()"
   ]
  },
  {
   "cell_type": "code",
   "execution_count": null,
   "metadata": {},
   "outputs": [],
   "source": []
  },
  {
   "cell_type": "code",
   "execution_count": 8,
   "metadata": {},
   "outputs": [
    {
     "name": "stdout",
     "output_type": "stream",
     "text": [
      "done\n"
     ]
    }
   ],
   "source": [
    "# spect_vc collects spectrogram information to be used later for spec2wav conversion via wavnet model\n",
    "spect_vc = []\n",
    "\n",
    "x_org_list = []\n",
    "\n",
    "# each sbmt_i has a speaker ID, a speaker embedding, and a spectrogram\n",
    "for sbmt_i in training_data_for_synthesis:\n",
    "    \n",
    "    # x origin - 80Mel spectrogram\n",
    "    x_org = sbmt_i[2]\n",
    "    x_org_list.append( ('{}'.format(sbmt_i[0]), x_org) )\n",
    "    x_org, len_pad = pad_seq(x_org)\n",
    "    # utterance origin is just padded spec in tensor form\n",
    "    uttr_org = torch.from_numpy(x_org[np.newaxis, :, :]).to(device)\n",
    "    # speaker embedding \n",
    "    emb_org = torch.from_numpy(sbmt_i[1][np.newaxis, :]).to(device)\n",
    "\n",
    "    # for each entry in training_data_for_synthesis, use it as the embedding target and use this in G\n",
    "    for sbmt_j in training_data_for_synthesis:\n",
    "        # embedding target represents S2 in the paper - the embedding provided by a pretrained Speaker Encoder\n",
    "        # I guess this converts each utterance from the data so that it matches the utterance of every speaker\n",
    "        # So if there were 4 utterances with different speakers, then this code will generate 4*4=16 conversions\n",
    "        emb_trg = torch.from_numpy(sbmt_j[1][np.newaxis, :]).to(device)\n",
    "        \n",
    "        # as this is conversion not training, no backprop/gradientCommunication needed here\n",
    "        with torch.no_grad():\n",
    "            # x_identic_psnt = target utterance, produced by the Generator\n",
    "            # Generator is fed an utterance and speaker \n",
    "            if one_hot == True:\n",
    "                emb_org =emb_org.float()\n",
    "                emb_trg =emb_trg.float() \n",
    "            _, x_identic_psnt, _ = G(uttr_org, emb_org, emb_trg)\n",
    "            \n",
    "        if len_pad == 0:\n",
    "            # utterance target is the converted speech\n",
    "            uttr_trg = x_identic_psnt[0, 0, :, :].cpu().numpy()\n",
    "        else:\n",
    "            uttr_trg = x_identic_psnt[0, 0, :-len_pad, :].cpu().numpy()\n",
    "        # utterance is saved in a list, along with source and target ID\n",
    "        spect_vc.append( ('{}x{}'.format(sbmt_i[0], sbmt_j[0]), uttr_trg) )\n",
    "        \n",
    "        \n",
    "with open('results.pkl', 'wb') as handle:\n",
    "    pickle.dump(spect_vc, handle)\n",
    "\n",
    "with open('x_org.pkl', 'wb') as howdy:\n",
    "    pickle.dump(x_org_list, howdy)\n",
    "\n",
    "print('done')"
   ]
  },
  {
   "cell_type": "code",
   "execution_count": 9,
   "metadata": {},
   "outputs": [
    {
     "data": {
      "text/plain": [
       "<All keys matched successfully>"
      ]
     },
     "execution_count": 9,
     "metadata": {},
     "output_type": "execute_result"
    }
   ],
   "source": [
    "# prepare wavenet operations\n",
    "torch.cuda.empty_cache()\n",
    "\n",
    "import torch\n",
    "import librosa\n",
    "import soundfile as sf\n",
    "import pickle\n",
    "from synthesis import build_model\n",
    "from synthesis import wavegen\n",
    "\n",
    "\n",
    "device = torch.device(\"cuda:0\")\n",
    "model = build_model().to(device)\n",
    "checkpoint = torch.load(\"checkpoint_step001000000_ema.pth\")\n",
    "model.load_state_dict(checkpoint[\"state_dict\"])"
   ]
  },
  {
   "cell_type": "code",
   "execution_count": null,
   "metadata": {
    "scrolled": true
   },
   "outputs": [
    {
     "name": "stderr",
     "output_type": "stream",
     "text": [
      "  0%|          | 7/35072 [00:00<08:27, 69.05it/s]"
     ]
    },
    {
     "name": "stdout",
     "output_type": "stream",
     "text": [
      "p360xp360\n"
     ]
    },
    {
     "name": "stderr",
     "output_type": "stream",
     "text": [
      "100%|██████████| 35072/35072 [08:02<00:00, 72.70it/s]\n",
      "  0%|          | 8/35072 [00:00<07:53, 74.08it/s]"
     ]
    },
    {
     "name": "stdout",
     "output_type": "stream",
     "text": [
      "p360xp259\n"
     ]
    },
    {
     "name": "stderr",
     "output_type": "stream",
     "text": [
      "100%|██████████| 35072/35072 [08:04<00:00, 72.36it/s]\n",
      "  0%|          | 7/35072 [00:00<08:47, 66.52it/s]"
     ]
    },
    {
     "name": "stdout",
     "output_type": "stream",
     "text": [
      "p360xp233\n"
     ]
    },
    {
     "name": "stderr",
     "output_type": "stream",
     "text": [
      "  5%|▍         | 1731/35072 [00:25<08:13, 67.57it/s]"
     ]
    }
   ],
   "source": [
    "# reproduce original data from pre-compuuted (noise-injected) spectrograms\n",
    "\n",
    "results = pickle.load(open('results.pkl', 'rb'))\n",
    "subdir_for_conversion = subdir_for_wavs +'/conversions'\n",
    "if os.path.exists(subdir_for_conversion)==False:\n",
    "    os.makedirs(subdir_for_conversion)\n",
    "\n",
    "for result in results:\n",
    "    name = result[0]\n",
    "    c = result[1]\n",
    "    print(name)\n",
    "    waveform = wavegen(model, c=c)   \n",
    "#     librosa.output.write_wav(name+'.wav', waveform, sr=16000)\n",
    "    sf.write(subdir_for_conversion +'/' +name +'.wav', waveform, samplerate=16000)"
   ]
  },
  {
   "cell_type": "code",
   "execution_count": null,
   "metadata": {},
   "outputs": [],
   "source": []
  }
 ],
 "metadata": {
  "kernelspec": {
   "display_name": "venvautovc",
   "language": "python",
   "name": "venvautovc"
  },
  "language_info": {
   "codemirror_mode": {
    "name": "ipython",
    "version": 3
   },
   "file_extension": ".py",
   "mimetype": "text/x-python",
   "name": "python",
   "nbconvert_exporter": "python",
   "pygments_lexer": "ipython3",
   "version": "3.7.7"
  }
 },
 "nbformat": 4,
 "nbformat_minor": 4
}
